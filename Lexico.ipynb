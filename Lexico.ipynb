{
  "nbformat": 4,
  "nbformat_minor": 0,
  "metadata": {
    "colab": {
      "provenance": [],
      "collapsed_sections": [],
      "authorship_tag": "ABX9TyMpwzzsJm3gtv1qwfyLoTSW",
      "include_colab_link": true
    },
    "kernelspec": {
      "name": "python3",
      "display_name": "Python 3"
    },
    "language_info": {
      "name": "python"
    }
  },
  "cells": [
    {
      "cell_type": "markdown",
      "metadata": {
        "id": "view-in-github",
        "colab_type": "text"
      },
      "source": [
        "<a href=\"https://colab.research.google.com/github/gabrielmattia/packflix/blob/main/Lexico.ipynb\" target=\"_parent\"><img src=\"https://colab.research.google.com/assets/colab-badge.svg\" alt=\"Open In Colab\"/></a>"
      ]
    },
    {
      "cell_type": "code",
      "execution_count": 90,
      "metadata": {
        "id": "HnoFEPdV7ND4",
        "outputId": "6f6797d6-8e04-4852-9690-88887213299f",
        "colab": {
          "base_uri": "https://localhost:8080/"
        }
      },
      "outputs": [
        {
          "output_type": "stream",
          "name": "stdout",
          "text": [
            "Looking in indexes: https://pypi.org/simple, https://us-python.pkg.dev/colab-wheels/public/simple/\n",
            "Requirement already satisfied: rply in /usr/local/lib/python3.7/dist-packages (0.7.8)\n",
            "Requirement already satisfied: appdirs in /usr/local/lib/python3.7/dist-packages (from rply) (1.4.4)\n"
          ]
        }
      ],
      "source": [
        "!pip install rply"
      ]
    },
    {
      "cell_type": "code",
      "source": [
        "from rply import LexerGenerator\n",
        "\n",
        "# cria um objeto LexerGenerator\n",
        "lg = LexerGenerator()\n",
        "\n",
        "# insere as regras de formação (expressões regulares) dos tokens da linguagem\n",
        "\n",
        "#PREDEFINED IDENTIFIERS\n",
        "lg.add('VOID', r'void')\n",
        "lg.add('BOOLEAN', r'boolean')\n",
        "lg.add('TRUE', r'true')\n",
        "lg.add('FALSE', r'false')\n",
        "lg.add('READ', r'read')\n",
        "lg.add('INTEGER', r'integer')\n",
        "lg.add('WRITE', r'write')\n",
        "lg.add('LABELS', r'labels')\n",
        "lg.add('TYPES', r'types')\n",
        "lg.add('VARS', r'vars')\n",
        "lg.add('VAR', r'var')\n",
        "lg.add('GOTO', r'goto')\n",
        "lg.add('RETURN', r'return')\n",
        "lg.add('IF', r'if')\n",
        "lg.add('ELSE', r'else')\n",
        "lg.add('WHILE', r'while')\n",
        "\n",
        "\n",
        "lg.add('FUNCTIONS', r'functions')\n",
        "\n",
        "lg.add('EQUAL', r'\\==')\n",
        "lg.add('ATTR', r'\\=')\n",
        "\n",
        "lg.add('NOTEQUAL', r'!=')\n",
        "lg.add('NOT', r'\\!')\n",
        "\n",
        "lg.add('GREATEREQUALTHAN', r'>=')\n",
        "lg.add('GREATERTHAN', r'>')\n",
        "\n",
        "lg.add('LESSEREQUALTHAN', r'<=')\n",
        "lg.add('LESSERTHAN', r'<')\n",
        "\n",
        "lg.add('OR', r'\\|\\|')\n",
        "lg.add('AND', r'\\&\\&')\n",
        "\n",
        "\n",
        "lg.add('NUMBER', r'\\d+')\n",
        "lg.add('PLUS', r'\\+')\n",
        "lg.add('MINUS', r'-')\n",
        "lg.add('MUL', r'\\*')\n",
        "lg.add('DIV', r'/')\n",
        "lg.add('LPAREN', r'\\(')\n",
        "lg.add('RPAREN', r'\\)')\n",
        "lg.add('LCHAVE', r'\\{')\n",
        "lg.add('RCHAVE', r'\\}')\n",
        "lg.add('COMMA', r'\\,')\n",
        "lg.add('SEMICOLON', r'\\;')\n",
        "lg.add('COMMA', r'\\,')\n",
        "lg.add('COLON', r'\\:')\n",
        "lg.add('LBRACKET', r'\\[')\n",
        "lg.add('RBRACKET', r'\\]')\n",
        "lg.add('COLON', r'\\:')\n",
        "\n",
        "\n",
        "\n",
        "lg.add('ID', r'[a-z][a-z0-9]*')\n",
        "\n",
        "\n",
        "lg.add('MOD', r'%')\n",
        "\n",
        "# cria uma regra para ignorar caracteres de espaços\n",
        "lg.ignore('\\s+')\n",
        "lg.ignore('\\#.+')\n",
        "\n",
        "\n",
        "# contrói o analisador léxico\n",
        "lexer = lg.build()"
      ],
      "metadata": {
        "id": "423VnwlYAueK"
      },
      "execution_count": 128,
      "outputs": []
    },
    {
      "cell_type": "code",
      "source": [
        "arquivo=open('teste')\n",
        "reserved = [\"integer\", \"boolean\", \"true\", \"false\", 'read','write','void','functions','while',\n",
        "            'if','else','return','goto','var','vars'\n",
        "          ]\n",
        "i=1;\n",
        "for linha in arquivo:\n",
        "    linha = linha.strip()\n",
        "    for token in lexer.lex(linha.lower()):\n",
        "      if token.name == \"ID\" and token.value.lower() in reserved:\n",
        "      # yield Token(token.value.upper(), token.value)\n",
        "        print(f'< {i}, RESERVED , {token.value:^9} >')\n",
        "      else:\n",
        "        print(f'< {i:^2}, {token.name:^16}, {token.value:^9} >')\n",
        "\n",
        "    i+=1"
      ],
      "metadata": {
        "colab": {
          "base_uri": "https://localhost:8080/"
        },
        "id": "PSanmJ99-DF1",
        "outputId": "3921a265-2a42-48f0-e657-d9670d4d5e06"
      },
      "execution_count": 137,
      "outputs": [
        {
          "output_type": "stream",
          "name": "stdout",
          "text": [
            "< 1 ,       VOID      ,   void    >\n",
            "< 1 ,        ID       ,   teste   >\n",
            "< 1 ,      LPAREN     ,     (     >\n",
            "< 1 ,      RPAREN     ,     )     >\n",
            "< 1 ,      LCHAVE     ,     {     >\n",
            "< 2 ,     INTEGER     ,  integer  >\n",
            "< 2 ,        ID       ,     a     >\n",
            "< 2 ,      COMMA      ,     ,     >\n",
            "< 2 ,        ID       ,     b     >\n",
            "< 2 ,    SEMICOLON    ,     ;     >\n",
            "< 3 ,       READ      ,   read    >\n",
            "< 3 ,      LPAREN     ,     (     >\n",
            "< 3 ,        ID       ,     a     >\n",
            "< 3 ,      COMMA      ,     ,     >\n",
            "< 3 ,        ID       ,     b     >\n",
            "< 3 ,      RPAREN     ,     )     >\n",
            "< 3 ,    SEMICOLON    ,     ;     >\n",
            "< 4 ,      WRITE      ,   write   >\n",
            "< 4 ,      LPAREN     ,     (     >\n",
            "< 4 ,        ID       ,     a     >\n",
            "< 4 ,       PLUS      ,     +     >\n",
            "< 4 ,        ID       ,     b     >\n",
            "< 4 ,       DIV       ,     /     >\n",
            "< 4 ,      LPAREN     ,     (     >\n",
            "< 4 ,        ID       ,     a     >\n",
            "< 4 ,       AND       ,    &&     >\n",
            "< 4 ,        ID       ,     b     >\n",
            "< 4 ,      RPAREN     ,     )     >\n",
            "< 4 ,      RPAREN     ,     )     >\n",
            "< 5 ,      NUMBER     ,     1     >\n",
            "< 5 ,        ID       ,     a     >\n",
            "< 5 ,    SEMICOLON    ,     ;     >\n",
            "< 8 ,      RCHAVE     ,     }     >\n"
          ]
        }
      ]
    },
    {
      "cell_type": "code",
      "source": [],
      "metadata": {
        "id": "8ZemMTU-Zap6"
      },
      "execution_count": null,
      "outputs": []
    },
    {
      "cell_type": "code",
      "source": [
        "# arquivo=open('teste')\n",
        "# reserved = [\"integer\", \"boolean\", \"true\", \"false\", 'read','write']\n",
        "# for linha in arquivo:\n",
        "#     linha = linha.strip()\n",
        "#   for token in lexer.lex(linha):\n",
        "#     if token.name == \"ID\" and token.value.lower() in reserved:\n",
        "#       # yield Token(token.value.upper(), token.value)\n",
        "#       print(f'< {token.name:^9}, {token.value:^5} >')\n",
        "#     else:\n",
        "#       # yield token\n",
        "#       print(token)    \n",
        "\n",
        "# lex(arquivo)\n",
        "\n"
      ],
      "metadata": {
        "id": "Ww8c3gYbAQke",
        "colab": {
          "base_uri": "https://localhost:8080/",
          "height": 130
        },
        "outputId": "6522bc62-983e-4aed-f5bf-69fbeb332e56"
      },
      "execution_count": null,
      "outputs": [
        {
          "output_type": "error",
          "ename": "IndentationError",
          "evalue": "ignored",
          "traceback": [
            "\u001b[0;36m  File \u001b[0;32m\"<tokenize>\"\u001b[0;36m, line \u001b[0;32m5\u001b[0m\n\u001b[0;31m    for token in lexer.lex(linha):\u001b[0m\n\u001b[0m    ^\u001b[0m\n\u001b[0;31mIndentationError\u001b[0m\u001b[0;31m:\u001b[0m unindent does not match any outer indentation level\n"
          ]
        }
      ]
    },
    {
      "cell_type": "code",
      "source": [],
      "metadata": {
        "id": "bqJUpSgOZNp6"
      },
      "execution_count": null,
      "outputs": []
    }
  ]
}